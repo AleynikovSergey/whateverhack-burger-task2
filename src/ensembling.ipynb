{
 "cells": [
  {
   "cell_type": "code",
   "execution_count": 1,
   "metadata": {},
   "outputs": [],
   "source": [
    "import os\n",
    "import json\n",
    "import pandas as pd\n",
    "import numpy as np\n",
    "from PIL import Image, ImageDraw\n",
    "from pprint import pprint\n",
    "import cv2\n",
    "import matplotlib.pyplot as plt\n",
    "%matplotlib inline"
   ]
  },
  {
   "cell_type": "code",
   "execution_count": 2,
   "metadata": {},
   "outputs": [],
   "source": [
    "def batch_iou(boxes, box):\n",
    "    lr = np.maximum(\n",
    "        np.minimum(boxes[:, 2], box[2]) - np.maximum(boxes[:, 0], box[0]),\n",
    "        0.\n",
    "    )\n",
    "    tb = np.maximum(\n",
    "        np.minimum(boxes[:, 3], box[3]) - np.maximum(boxes[:, 1], box[1]),\n",
    "        0.\n",
    "    )\n",
    "    inter = lr * tb\n",
    "    union = (boxes[:, 2] - boxes[:, 0]) * (boxes[:, 3] - boxes[:, 1]) +\\\n",
    "            (box[2] - box[0]) * (box[3] - box[1]) - inter\n",
    "    return inter.astype(np.float32) / union\n",
    "\n",
    "\n",
    "def nms_custom(boxes, conf, iou_thresh, box_avg_type='mean'):\n",
    "    conf = np.array(conf)\n",
    "    boxes = np.array(boxes)\n",
    "    \n",
    "    order = conf.argsort()[::-1]\n",
    "    boxes_ord = boxes[order]\n",
    "    conf_ord = conf[order]\n",
    "\n",
    "    num_boxes = boxes.shape[0]\n",
    "    fin_boxes = []\n",
    "    fin_conf = []\n",
    "    boxes_left = boxes_ord\n",
    "    conf_left = conf_ord\n",
    "    while boxes_left.shape[0] > 1:\n",
    "        ovps = batch_iou(boxes_left[1:], boxes_left[0])\n",
    "        mask = ovps > iou_thresh\n",
    "\n",
    "        boxes_group = [boxes_left[0].reshape(1,4)]\n",
    "        conf_group = [conf_left[0]]\n",
    "        has_group = mask.sum() > 0\n",
    "        if has_group:\n",
    "            boxes_group.append(boxes_left[1:][mask].reshape(-1,4))\n",
    "            conf_group.extend(conf_left[1:][mask])\n",
    "        boxes_group = np.concatenate(boxes_group, axis=0)\n",
    "        conf_group = np.array(conf_group)\n",
    "\n",
    "        if box_avg_type == 'conf':\n",
    "            box_weights = conf_group / conf_group.sum()\n",
    "            box_avg = (boxes_group * box_weights[:,np.newaxis]).sum(axis=0)\n",
    "        elif box_avg_type == 'conf_pow':\n",
    "            box_weights = conf_group ** 4\n",
    "            box_weights /= box_weights.sum()\n",
    "            box_avg = (boxes_group * box_weights[:,np.newaxis]).sum(axis=0)\n",
    "        elif box_avg_type == 'mean':\n",
    "            box_avg = boxes_group.mean(axis=0)\n",
    "        else:\n",
    "            raise ValueError\n",
    "        conf_avg = conf_group.max()\n",
    "        fin_boxes.append(box_avg.reshape(1,4))\n",
    "        fin_conf.append(conf_avg)\n",
    "\n",
    "        keep = np.bitwise_not(mask)\n",
    "        conf_left = conf_left[1:][keep]\n",
    "        boxes_left = boxes_left[1:][keep]\n",
    "\n",
    "    if boxes_left.shape[0] == 1:\n",
    "        fin_boxes.append(boxes_left[0].reshape(1,4))\n",
    "        fin_conf.append(conf_left[0])\n",
    "\n",
    "    fin_boxes = np.round(np.concatenate(fin_boxes, axis=0)).astype(np.int32)\n",
    "    fin_conf = np.array(fin_conf)\n",
    "    return fin_boxes, fin_conf"
   ]
  },
  {
   "cell_type": "code",
   "execution_count": 3,
   "metadata": {},
   "outputs": [],
   "source": [
    "image_dir = 'data/hack2/hack2_test/'"
   ]
  },
  {
   "cell_type": "code",
   "execution_count": 4,
   "metadata": {},
   "outputs": [
    {
     "name": "stdout",
     "output_type": "stream",
     "text": [
      "{'shelf': (255, 0, 0), 'armchair': (255, 255, 0), 'dining_table': (255, 0, 255), 'bed': (0, 255, 0), 'couch': (0, 0, 255), 'lamp': (255, 255, 255), 'desk': (0, 255, 255), 'wardrobe': (255, 127, 255), 'chair': (255, 255, 127)}\n"
     ]
    }
   ],
   "source": [
    "classes = [\"lamp\", \"armchair\", \"dining_table\", \"shelf\", \"desk\", \"bed\", \"couch\", \"chair\", \"wardrobe\"]\n",
    "cls_colors = [\n",
    "    (255,255,255),\n",
    "    (255,255,0),\n",
    "    (255,0,255),\n",
    "    (255,0,0),\n",
    "    (0,255,255),\n",
    "    (0,255,0),\n",
    "    (0,0,255),\n",
    "    (255,255,127),\n",
    "    (255,127,255)\n",
    "]\n",
    "cls_colors = {cls:cls_colors[i] for i,cls in enumerate(classes)}\n",
    "print(cls_colors)\n",
    "\n",
    "def to_fmt(cls_pred, width, height, conf_thresh, draw=None):\n",
    "    bbox_list = []\n",
    "    conf_list = []\n",
    "    for pol, prob in cls_pred:\n",
    "        if prob < conf_thresh:\n",
    "            continue\n",
    "        bbox = np.array(pol)\n",
    "        bbox[:, 0] *= width\n",
    "        bbox[:, 1] *= height\n",
    "        bbox = bbox.astype(int)\n",
    "        xmin, ymin = bbox.min(axis=0)\n",
    "        xmax, ymax = bbox.max(axis=0)\n",
    "        if draw is not None: draw.rectangle((xmin,ymin,xmax,ymax))\n",
    "        bbox_list.append([xmin,ymin,xmax,ymax])\n",
    "        conf_list.append(prob)\n",
    "    return bbox_list, conf_list"
   ]
  },
  {
   "cell_type": "code",
   "execution_count": 5,
   "metadata": {},
   "outputs": [],
   "source": [
    "# mask_rcnn_furniture_0015.h5 0.3 0.0548779649829\n",
    "# attempt1/furniture20180317T0042/last.h5 говно\n",
    "# attempt2/furniture20180317T0042/mask_rcnn_furniture_0005.h5 0.3 0.0540255155264\n",
    "# attempt3/furniture20180317T0042/mask_rcnn_furniture_0010.h5 0.33 0.0552196712923 \n",
    "# attempt3/furniture20180317T0042/mask_rcnn_furniture_0012.h5 0.33 0.0553565741127 $$\n",
    "# attempt3/furniture20180317T0042/mask_rcnn_furniture_0000.h5 0.5 0.0564432810419  $$\n",
    "# attempt3/furniture20180317T0042/mask_rcnn_furniture_0004.h5 0.3 0.0548174821948\n",
    "# attempt3/furniture20180317T0042/mask_rcnn_furniture_0005.h5 0.59 0.0565719091788 | 0.35 0.0564128826338 $$\n",
    "# attempt3/furniture20180317T0042/mask_rcnn_furniture_0007.h5 0.34 0.0547277807084\n",
    "# attempt3/furniture20180317T0042/mask_rcnn_furniture_0002.h5 0.4 0.0543842989756\n",
    "# attempt3/furniture20180317T0042/mask_rcnn_furniture_0014.h5 0.3 0.0547633140958\n",
    "# attempt4/furniture20180317T0042/mask_rcnn_furniture_0000.h5 0.43 0.0561559031887\n",
    "# attempt4/furniture20180317T0042/mask_rcnn_furniture_0001.h5 0.41 0.0576388339552\n",
    "# attempt4/furniture20180317T0042/mask_rcnn_furniture_0002.h5"
   ]
  },
  {
   "cell_type": "code",
   "execution_count": 6,
   "metadata": {},
   "outputs": [
    {
     "name": "stdout",
     "output_type": "stream",
     "text": [
      "mask_rcnn_furniture_0012_raw.csv\n",
      "mask_rcnn_furniture_0003_attempt4_raw.csv\n",
      "mask_rcnn_furniture_0001_attempt4_raw.csv\n",
      "mask_rcnn_furniture_0005_raw.csv\n",
      "mask_rcnn_furniture_0000_raw.csv\n"
     ]
    }
   ],
   "source": [
    "grp_dir='hackathon/submissions/group_2/'\n",
    "input_submis = []\n",
    "input_names = []\n",
    "for name in os.listdir(grp_dir):\n",
    "    print(name)\n",
    "    input_names.append(name)\n",
    "    input_submis.append(pd.read_csv(grp_dir+name))"
   ]
  },
  {
   "cell_type": "code",
   "execution_count": 7,
   "metadata": {},
   "outputs": [
    {
     "data": {
      "text/html": [
       "<div>\n",
       "<style scoped>\n",
       "    .dataframe tbody tr th:only-of-type {\n",
       "        vertical-align: middle;\n",
       "    }\n",
       "\n",
       "    .dataframe tbody tr th {\n",
       "        vertical-align: top;\n",
       "    }\n",
       "\n",
       "    .dataframe thead th {\n",
       "        text-align: right;\n",
       "    }\n",
       "</style>\n",
       "<table border=\"1\" class=\"dataframe\">\n",
       "  <thead>\n",
       "    <tr style=\"text-align: right;\">\n",
       "      <th></th>\n",
       "      <th>id</th>\n",
       "      <th>input</th>\n",
       "      <th>prediction</th>\n",
       "    </tr>\n",
       "  </thead>\n",
       "  <tbody>\n",
       "    <tr>\n",
       "      <th>0</th>\n",
       "      <td>0</td>\n",
       "      <td>{\"image\": \"https://dbrain-public.s3.eu-west-1....</td>\n",
       "      <td>{\"aabb\": {\"lamp\": [], \"shelf\": [], \"couch\": []...</td>\n",
       "    </tr>\n",
       "    <tr>\n",
       "      <th>1</th>\n",
       "      <td>1</td>\n",
       "      <td>{\"image\": \"https://dbrain-public.s3.eu-west-1....</td>\n",
       "      <td>{\"aabb\": {\"lamp\": [], \"shelf\": [[[[0.532552083...</td>\n",
       "    </tr>\n",
       "    <tr>\n",
       "      <th>2</th>\n",
       "      <td>2</td>\n",
       "      <td>{\"image\": \"https://dbrain-public.s3.eu-west-1....</td>\n",
       "      <td>{\"aabb\": {\"lamp\": [], \"shelf\": [[[[0.391927083...</td>\n",
       "    </tr>\n",
       "    <tr>\n",
       "      <th>3</th>\n",
       "      <td>3</td>\n",
       "      <td>{\"image\": \"https://dbrain-public.s3.eu-west-1....</td>\n",
       "      <td>{\"aabb\": {\"lamp\": [[[[0.5924479166666666, 0.10...</td>\n",
       "    </tr>\n",
       "    <tr>\n",
       "      <th>4</th>\n",
       "      <td>4</td>\n",
       "      <td>{\"image\": \"https://dbrain-public.s3.eu-west-1....</td>\n",
       "      <td>{\"aabb\": {\"lamp\": [], \"shelf\": [], \"couch\": [[...</td>\n",
       "    </tr>\n",
       "  </tbody>\n",
       "</table>\n",
       "</div>"
      ],
      "text/plain": [
       "   id                                              input  \\\n",
       "0   0  {\"image\": \"https://dbrain-public.s3.eu-west-1....   \n",
       "1   1  {\"image\": \"https://dbrain-public.s3.eu-west-1....   \n",
       "2   2  {\"image\": \"https://dbrain-public.s3.eu-west-1....   \n",
       "3   3  {\"image\": \"https://dbrain-public.s3.eu-west-1....   \n",
       "4   4  {\"image\": \"https://dbrain-public.s3.eu-west-1....   \n",
       "\n",
       "                                          prediction  \n",
       "0  {\"aabb\": {\"lamp\": [], \"shelf\": [], \"couch\": []...  \n",
       "1  {\"aabb\": {\"lamp\": [], \"shelf\": [[[[0.532552083...  \n",
       "2  {\"aabb\": {\"lamp\": [], \"shelf\": [[[[0.391927083...  \n",
       "3  {\"aabb\": {\"lamp\": [[[[0.5924479166666666, 0.10...  \n",
       "4  {\"aabb\": {\"lamp\": [], \"shelf\": [], \"couch\": [[...  "
      ]
     },
     "execution_count": 7,
     "metadata": {},
     "output_type": "execute_result"
    }
   ],
   "source": [
    "input_submis[0].head()"
   ]
  },
  {
   "cell_type": "code",
   "execution_count": 8,
   "metadata": {},
   "outputs": [
    {
     "data": {
      "text/html": [
       "<div>\n",
       "<style scoped>\n",
       "    .dataframe tbody tr th:only-of-type {\n",
       "        vertical-align: middle;\n",
       "    }\n",
       "\n",
       "    .dataframe tbody tr th {\n",
       "        vertical-align: top;\n",
       "    }\n",
       "\n",
       "    .dataframe thead th {\n",
       "        text-align: right;\n",
       "    }\n",
       "</style>\n",
       "<table border=\"1\" class=\"dataframe\">\n",
       "  <thead>\n",
       "    <tr style=\"text-align: right;\">\n",
       "      <th></th>\n",
       "      <th>id</th>\n",
       "      <th>input</th>\n",
       "      <th>prediction</th>\n",
       "    </tr>\n",
       "  </thead>\n",
       "  <tbody>\n",
       "    <tr>\n",
       "      <th>0</th>\n",
       "      <td>0</td>\n",
       "      <td>{\"image\": \"https://dbrain-public.s3.eu-west-1....</td>\n",
       "      <td>{\"aabb\": {\"lamp\": [], \"shelf\": [], \"couch\": []...</td>\n",
       "    </tr>\n",
       "    <tr>\n",
       "      <th>1</th>\n",
       "      <td>1</td>\n",
       "      <td>{\"image\": \"https://dbrain-public.s3.eu-west-1....</td>\n",
       "      <td>{\"aabb\": {\"lamp\": [], \"shelf\": [[[[0.5390625, ...</td>\n",
       "    </tr>\n",
       "    <tr>\n",
       "      <th>2</th>\n",
       "      <td>2</td>\n",
       "      <td>{\"image\": \"https://dbrain-public.s3.eu-west-1....</td>\n",
       "      <td>{\"aabb\": {\"lamp\": [], \"shelf\": [[[[0.662760416...</td>\n",
       "    </tr>\n",
       "    <tr>\n",
       "      <th>3</th>\n",
       "      <td>3</td>\n",
       "      <td>{\"image\": \"https://dbrain-public.s3.eu-west-1....</td>\n",
       "      <td>{\"aabb\": {\"lamp\": [[[[0.5963541666666666, 0.07...</td>\n",
       "    </tr>\n",
       "    <tr>\n",
       "      <th>4</th>\n",
       "      <td>4</td>\n",
       "      <td>{\"image\": \"https://dbrain-public.s3.eu-west-1....</td>\n",
       "      <td>{\"aabb\": {\"lamp\": [], \"shelf\": [[[[0.671875, 0...</td>\n",
       "    </tr>\n",
       "  </tbody>\n",
       "</table>\n",
       "</div>"
      ],
      "text/plain": [
       "   id                                              input  \\\n",
       "0   0  {\"image\": \"https://dbrain-public.s3.eu-west-1....   \n",
       "1   1  {\"image\": \"https://dbrain-public.s3.eu-west-1....   \n",
       "2   2  {\"image\": \"https://dbrain-public.s3.eu-west-1....   \n",
       "3   3  {\"image\": \"https://dbrain-public.s3.eu-west-1....   \n",
       "4   4  {\"image\": \"https://dbrain-public.s3.eu-west-1....   \n",
       "\n",
       "                                          prediction  \n",
       "0  {\"aabb\": {\"lamp\": [], \"shelf\": [], \"couch\": []...  \n",
       "1  {\"aabb\": {\"lamp\": [], \"shelf\": [[[[0.5390625, ...  \n",
       "2  {\"aabb\": {\"lamp\": [], \"shelf\": [[[[0.662760416...  \n",
       "3  {\"aabb\": {\"lamp\": [[[[0.5963541666666666, 0.07...  \n",
       "4  {\"aabb\": {\"lamp\": [], \"shelf\": [[[[0.671875, 0...  "
      ]
     },
     "execution_count": 8,
     "metadata": {},
     "output_type": "execute_result"
    }
   ],
   "source": [
    "input_submis[1].head()"
   ]
  },
  {
   "cell_type": "code",
   "execution_count": 9,
   "metadata": {
    "scrolled": false
   },
   "outputs": [],
   "source": [
    "IOU_THRESH = 0.5\n",
    "DRAW=False\n",
    "\n",
    "CONF_THRESH = {\n",
    "    'mask_rcnn_furniture_0012_raw.csv': 0.9,  # WORST\n",
    "    'mask_rcnn_furniture_0001_attempt4_raw.csv':0.8,\n",
    "    'mask_rcnn_furniture_0005_raw.csv':0.8,\n",
    "    'mask_rcnn_furniture_0000_raw.csv':0.8,\n",
    "    'mask_rcnn_furniture_0003_attempt4_raw.csv':0.8  # BEST\n",
    "}\n",
    "\n",
    "class_conf = {cls: [] for cls in classes}\n",
    "\n",
    "ensemble_preds = {}  # image_id: aabb_dict\n",
    "#for i in range(5):\n",
    "for i in range(input_submis[0].shape[0]):\n",
    "    img_name = '{:06d}.jpg'.format(int(input_submis[0].iloc[i,0]))\n",
    "    img_path = image_dir + img_name\n",
    "    im=Image.open(img_path)\n",
    "    width, height = im.size\n",
    "    #print(img_path)\n",
    "    #print(width,height)\n",
    "    \n",
    "    if DRAW:im = np.array(im)\n",
    "    \n",
    "    nms_pred = {}\n",
    "    for cls in classes:\n",
    "        #print(cls)\n",
    "        total_boxes = []\n",
    "        total_conf = []\n",
    "        for si in range(len(input_submis)):\n",
    "            aabb=eval(input_submis[si].iloc[i,2])['aabb']\n",
    "            bbox_1, conf_1 = to_fmt(aabb[cls], width, height, CONF_THRESH[input_names[si]])\n",
    "            total_boxes.extend(bbox_1)\n",
    "            total_conf.extend(conf_1)\n",
    "        class_conf[cls].extend(total_conf)\n",
    "        #print(total_boxes)\n",
    "        #print(total_conf)\n",
    "        nms_pred[cls] = []\n",
    "        if total_boxes:\n",
    "            nms_boxes, nms_conf = nms_custom(total_boxes,total_conf,IOU_THRESH,'conf')\n",
    "            polys = []\n",
    "            for left,top,right,bottom in nms_boxes:\n",
    "                #print(cls_colors[cls])\n",
    "                \n",
    "                if DRAW:\n",
    "                    cv2.rectangle(im,(left,top),(right,bottom),cls_colors[cls],2)\n",
    "                    cv2.putText(im,cls,(left,top),cv2.FONT_HERSHEY_COMPLEX,1,(255,255,255))\n",
    "                \n",
    "                poly = np.array([\n",
    "                    [left, top],\n",
    "                    [left, bottom],\n",
    "                    [right, bottom],\n",
    "                    [right, top],\n",
    "                    [left, top]\n",
    "                ],dtype=float)\n",
    "                poly[:,0] /= width\n",
    "                poly[:,1] /= height\n",
    "                polys.append(poly.tolist())\n",
    "                \n",
    "            nms_pred[cls] = polys\n",
    "    #print(nms_pred)\n",
    "    \n",
    "    if DRAW:\n",
    "        plt.figure(figsize=(12,8))\n",
    "        plt.imshow(im)\n",
    "        plt.axis('off')\n",
    "    \n",
    "    ensemble_preds[i]={'aabb': nms_pred}\n",
    "#pprint(ensemble_preds)"
   ]
  },
  {
   "cell_type": "code",
   "execution_count": null,
   "metadata": {},
   "outputs": [],
   "source": []
  },
  {
   "cell_type": "code",
   "execution_count": 10,
   "metadata": {},
   "outputs": [
    {
     "name": "stdout",
     "output_type": "stream",
     "text": [
      "('lamp', 0.9396534837545822)\n",
      "('armchair', 0.9411265424640775)\n",
      "('dining_table', 0.9470006408396272)\n",
      "('shelf', 0.9215616788420385)\n",
      "('desk', 0.9348916638009327)\n",
      "('bed', 0.9687450259923935)\n",
      "('couch', 0.9672923635010704)\n",
      "('chair', 0.9536797135504501)\n",
      "('wardrobe', 0.934189495496469)\n"
     ]
    }
   ],
   "source": [
    "for cls in classes:\n",
    "    print(cls, np.mean(class_conf[cls]))"
   ]
  },
  {
   "cell_type": "code",
   "execution_count": 11,
   "metadata": {
    "scrolled": false
   },
   "outputs": [
    {
     "data": {
      "image/png": "[encoded data removed]",
      "text/plain": [
       "<matplotlib.figure.Figure at 0x7fd70e682350>"
      ]
     },
     "metadata": {},
     "output_type": "display_data"
    },
    {
     "data": {
      "image/png": "[encoded data removed]",
      "text/plain": [
       "<matplotlib.figure.Figure at 0x7fd6cad23e90>"
      ]
     },
     "metadata": {},
     "output_type": "display_data"
    },
    {
     "data": {
      "image/png": "[encoded data removed]",
      "text/plain": [
       "<matplotlib.figure.Figure at 0x7fd6cacf4350>"
      ]
     },
     "metadata": {},
     "output_type": "display_data"
    },
    {
     "data": {
      "image/png": "[encoded data removed]",
      "text/plain": [
       "<matplotlib.figure.Figure at 0x7fd6caebc590>"
      ]
     },
     "metadata": {},
     "output_type": "display_data"
    },
    {
     "data": {
      "image/png": "[encoded data removed]",
      "text/plain": [
       "<matplotlib.figure.Figure at 0x7fd6ca9c5210>"
      ]
     },
     "metadata": {},
     "output_type": "display_data"
    },
    {
     "data": {
      "image/png": "[encoded data removed]",
      "text/plain": [
       "<matplotlib.figure.Figure at 0x7fd6cab579d0>"
      ]
     },
     "metadata": {},
     "output_type": "display_data"
    },
    {
     "data": {
      "image/png": "[encoded data removed]",
      "text/plain": [
       "<matplotlib.figure.Figure at 0x7fd6ca9bca90>"
      ]
     },
     "metadata": {},
     "output_type": "display_data"
    },
    {
     "data": {
      "image/png": "[encoded data removed]",
      "text/plain": [
       "<matplotlib.figure.Figure at 0x7fd6cac47f10>"
      ]
     },
     "metadata": {},
     "output_type": "display_data"
    },
    {
     "data": {
      "image/png": "[encoded data removed]",
      "text/plain": [
       "<matplotlib.figure.Figure at 0x7fd6ca6a7d90>"
      ]
     },
     "metadata": {},
     "output_type": "display_data"
    }
   ],
   "source": [
    "for cls in classes:\n",
    "    plt.hist(class_conf[cls],100);\n",
    "    plt.title(cls)\n",
    "    plt.show()"
   ]
  },
  {
   "cell_type": "code",
   "execution_count": 12,
   "metadata": {},
   "outputs": [],
   "source": [
    "out_df = input_submis[0].copy()\n",
    "for i in range(out_df.shape[0]):\n",
    "    out_df.iloc[i,2] = json.dumps(ensemble_preds[i])"
   ]
  },
  {
   "cell_type": "code",
   "execution_count": 13,
   "metadata": {},
   "outputs": [],
   "source": [
    "suffix='2.3'\n",
    "out_name='hackathon/submissions/ensemble_{}.csv'.format(suffix)\n",
    "out_df.to_csv(out_name,index=None)"
   ]
  },
  {
   "cell_type": "code",
   "execution_count": 14,
   "metadata": {},
   "outputs": [
    {
     "data": {
      "text/html": [
       "<div>\n",
       "<style scoped>\n",
       "    .dataframe tbody tr th:only-of-type {\n",
       "        vertical-align: middle;\n",
       "    }\n",
       "\n",
       "    .dataframe tbody tr th {\n",
       "        vertical-align: top;\n",
       "    }\n",
       "\n",
       "    .dataframe thead th {\n",
       "        text-align: right;\n",
       "    }\n",
       "</style>\n",
       "<table border=\"1\" class=\"dataframe\">\n",
       "  <thead>\n",
       "    <tr style=\"text-align: right;\">\n",
       "      <th></th>\n",
       "      <th>id</th>\n",
       "      <th>input</th>\n",
       "      <th>prediction</th>\n",
       "    </tr>\n",
       "  </thead>\n",
       "  <tbody>\n",
       "    <tr>\n",
       "      <th>0</th>\n",
       "      <td>0</td>\n",
       "      <td>{\"image\": \"https://dbrain-public.s3.eu-west-1....</td>\n",
       "      <td>{\"aabb\": {\"shelf\": [], \"armchair\": [], \"dining...</td>\n",
       "    </tr>\n",
       "    <tr>\n",
       "      <th>1</th>\n",
       "      <td>1</td>\n",
       "      <td>{\"image\": \"https://dbrain-public.s3.eu-west-1....</td>\n",
       "      <td>{\"aabb\": {\"shelf\": [[[0.535, 0.265079365079365...</td>\n",
       "    </tr>\n",
       "    <tr>\n",
       "      <th>2</th>\n",
       "      <td>2</td>\n",
       "      <td>{\"image\": \"https://dbrain-public.s3.eu-west-1....</td>\n",
       "      <td>{\"aabb\": {\"shelf\": [[[0.38958333333333334, 0.4...</td>\n",
       "    </tr>\n",
       "    <tr>\n",
       "      <th>3</th>\n",
       "      <td>3</td>\n",
       "      <td>{\"image\": \"https://dbrain-public.s3.eu-west-1....</td>\n",
       "      <td>{\"aabb\": {\"shelf\": [[[0.6825, 0.58571428571428...</td>\n",
       "    </tr>\n",
       "    <tr>\n",
       "      <th>4</th>\n",
       "      <td>4</td>\n",
       "      <td>{\"image\": \"https://dbrain-public.s3.eu-west-1....</td>\n",
       "      <td>{\"aabb\": {\"shelf\": [[[0.6675, 0.66444444444444...</td>\n",
       "    </tr>\n",
       "  </tbody>\n",
       "</table>\n",
       "</div>"
      ],
      "text/plain": [
       "   id                                              input  \\\n",
       "0   0  {\"image\": \"https://dbrain-public.s3.eu-west-1....   \n",
       "1   1  {\"image\": \"https://dbrain-public.s3.eu-west-1....   \n",
       "2   2  {\"image\": \"https://dbrain-public.s3.eu-west-1....   \n",
       "3   3  {\"image\": \"https://dbrain-public.s3.eu-west-1....   \n",
       "4   4  {\"image\": \"https://dbrain-public.s3.eu-west-1....   \n",
       "\n",
       "                                          prediction  \n",
       "0  {\"aabb\": {\"shelf\": [], \"armchair\": [], \"dining...  \n",
       "1  {\"aabb\": {\"shelf\": [[[0.535, 0.265079365079365...  \n",
       "2  {\"aabb\": {\"shelf\": [[[0.38958333333333334, 0.4...  \n",
       "3  {\"aabb\": {\"shelf\": [[[0.6825, 0.58571428571428...  \n",
       "4  {\"aabb\": {\"shelf\": [[[0.6675, 0.66444444444444...  "
      ]
     },
     "execution_count": 14,
     "metadata": {},
     "output_type": "execute_result"
    }
   ],
   "source": [
    "out_df=pd.read_csv(out_name)\n",
    "out_df.head()"
   ]
  },
  {
   "cell_type": "code",
   "execution_count": 15,
   "metadata": {},
   "outputs": [
    {
     "name": "stdout",
     "output_type": "stream",
     "text": [
      "{'aabb': {'armchair': [],\n",
      "          'bed': [],\n",
      "          'chair': [],\n",
      "          'couch': [],\n",
      "          'desk': [[[0.28583333333333333, 0.7952380952380952],\n",
      "                    [0.28583333333333333, 1.0063492063492063],\n",
      "                    [0.7658333333333334, 1.0063492063492063],\n",
      "                    [0.7658333333333334, 0.7952380952380952],\n",
      "                    [0.28583333333333333, 0.7952380952380952]]],\n",
      "          'dining_table': [],\n",
      "          'lamp': [],\n",
      "          'shelf': [[[0.535, 0.2650793650793651],\n",
      "                     [0.535, 0.346031746031746],\n",
      "                     [0.715, 0.346031746031746],\n",
      "                     [0.715, 0.2650793650793651],\n",
      "                     [0.535, 0.2650793650793651]],\n",
      "                    [[0.5391666666666667, 0.12063492063492064],\n",
      "                     [0.5391666666666667, 0.19047619047619047],\n",
      "                     [0.7291666666666666, 0.19047619047619047],\n",
      "                     [0.7291666666666666, 0.12063492063492064],\n",
      "                     [0.5391666666666667, 0.12063492063492064]],\n",
      "                    [[0.2, 0.011111111111111112],\n",
      "                     [0.2, 0.5380952380952381],\n",
      "                     [0.51, 0.5380952380952381],\n",
      "                     [0.51, 0.011111111111111112],\n",
      "                     [0.2, 0.011111111111111112]],\n",
      "                    [[0.5316666666666666, 0.05238095238095238],\n",
      "                     [0.5316666666666666, 0.44603174603174606],\n",
      "                     [0.7283333333333334, 0.44603174603174606],\n",
      "                     [0.7283333333333334, 0.05238095238095238],\n",
      "                     [0.5316666666666666, 0.05238095238095238]],\n",
      "                    [[0.44333333333333336, 0.2571428571428571],\n",
      "                     [0.44333333333333336, 0.3492063492063492],\n",
      "                     [0.5691666666666667, 0.3492063492063492],\n",
      "                     [0.5691666666666667, 0.2571428571428571],\n",
      "                     [0.44333333333333336, 0.2571428571428571]],\n",
      "                    [[0.4475, 0.09841269841269841],\n",
      "                     [0.4475, 0.18888888888888888],\n",
      "                     [0.5791666666666667, 0.18888888888888888],\n",
      "                     [0.5791666666666667, 0.09841269841269841],\n",
      "                     [0.4475, 0.09841269841269841]],\n",
      "                    [[0.3908333333333333, 0.2761904761904762],\n",
      "                     [0.3908333333333333, 0.346031746031746],\n",
      "                     [0.46, 0.346031746031746],\n",
      "                     [0.46, 0.2761904761904762],\n",
      "                     [0.3908333333333333, 0.2761904761904762]],\n",
      "                    [[0.5325, 0.3412698412698413],\n",
      "                     [0.5325, 0.4603174603174603],\n",
      "                     [0.6958333333333333, 0.4603174603174603],\n",
      "                     [0.6958333333333333, 0.3412698412698413],\n",
      "                     [0.5325, 0.3412698412698413]]],\n",
      "          'wardrobe': []}}\n"
     ]
    }
   ],
   "source": [
    "pprint(eval(out_df.iloc[1,2]))"
   ]
  },
  {
   "cell_type": "code",
   "execution_count": 16,
   "metadata": {},
   "outputs": [
    {
     "name": "stdout",
     "output_type": "stream",
     "text": [
      "{'aabb': {'armchair': [],\n",
      "          'bed': [],\n",
      "          'chair': [],\n",
      "          'couch': [],\n",
      "          'desk': [[[[0.2734375, 0.8184523809523809],\n",
      "                     [0.2734375, 1.0168650793650793],\n",
      "                     [0.76953125, 1.0168650793650793],\n",
      "                     [0.76953125, 0.8184523809523809],\n",
      "                     [0.2734375, 0.8184523809523809]],\n",
      "                    0.9563313722610474]],\n",
      "          'dining_table': [],\n",
      "          'lamp': [],\n",
      "          'shelf': [[[[0.5325520833333334, 0.26537698412698413],\n",
      "                      [0.5325520833333334, 0.34970238095238093],\n",
      "                      [0.7174479166666666, 0.34970238095238093],\n",
      "                      [0.7174479166666666, 0.26537698412698413],\n",
      "                      [0.5325520833333334, 0.26537698412698413]],\n",
      "                     0.9983144998550415],\n",
      "                    [[[0.5338541666666666, 0.12648809523809523],\n",
      "                      [0.5338541666666666, 0.19345238095238096],\n",
      "                      [0.7356770833333334, 0.19345238095238096],\n",
      "                      [0.7356770833333334, 0.12648809523809523],\n",
      "                      [0.5338541666666666, 0.12648809523809523]],\n",
      "                     0.9896318912506104],\n",
      "                    [[[0.20572916666666666, 0.054563492063492064],\n",
      "                      [0.20572916666666666, 0.5580357142857143],\n",
      "                      [0.4986979166666667, 0.5580357142857143],\n",
      "                      [0.4986979166666667, 0.054563492063492064],\n",
      "                      [0.20572916666666666, 0.054563492063492064]],\n",
      "                     0.9265501499176025],\n",
      "                    [[[0.5065104166666666, 0.07192460317460317],\n",
      "                      [0.5065104166666666, 0.4935515873015873],\n",
      "                      [0.73046875, 0.4935515873015873],\n",
      "                      [0.73046875, 0.07192460317460317],\n",
      "                      [0.5065104166666666, 0.07192460317460317]],\n",
      "                     0.8087484836578369],\n",
      "                    [[[0.4557291666666667, 0.11160714285714286],\n",
      "                      [0.4557291666666667, 0.20089285714285715],\n",
      "                      [0.625, 0.20089285714285715],\n",
      "                      [0.625, 0.11160714285714286],\n",
      "                      [0.4557291666666667, 0.11160714285714286]],\n",
      "                     0.7457918524742126]],\n",
      "          'wardrobe': []}}\n"
     ]
    }
   ],
   "source": [
    "pprint(eval(input_submis[0].iloc[1,2]))"
   ]
  },
  {
   "cell_type": "code",
   "execution_count": null,
   "metadata": {},
   "outputs": [],
   "source": []
  }
 ],
 "metadata": {
  "kernelspec": {
   "display_name": "Python 2",
   "language": "python",
   "name": "python2"
  },
  "language_info": {
   "codemirror_mode": {
    "name": "ipython",
    "version": 2
   },
   "file_extension": ".py",
   "mimetype": "text/x-python",
   "name": "python",
   "nbconvert_exporter": "python",
   "pygments_lexer": "ipython2",
   "version": "2.7.12"
  }
 },
 "nbformat": 4,
 "nbformat_minor": 2
}
